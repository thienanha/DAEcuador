{
 "cells": [
  {
   "cell_type": "markdown",
   "metadata": {},
   "source": [
    "## Import Packages"
   ]
  },
  {
   "cell_type": "code",
   "execution_count": 1,
   "metadata": {},
   "outputs": [],
   "source": [
    "import pandas as pd\n"
   ]
  },
  {
   "cell_type": "markdown",
   "metadata": {},
   "source": [
    "## Setup Paths"
   ]
  },
  {
   "cell_type": "code",
   "execution_count": 16,
   "metadata": {},
   "outputs": [
    {
     "data": {
      "text/plain": [
       "'C:\\\\Users\\\\Daoanh\\\\Documents\\\\Berkeley\\\\Summer 2019\\\\INSPI\\\\BAS_20190611_Reporte_colectas_insectario_ADB_V03.xlsx'"
      ]
     },
     "execution_count": 16,
     "metadata": {},
     "output_type": "execute_result"
    }
   ],
   "source": [
    "FILE = 'BAS_20190611_Reporte_colectas_insectario_ADB_V03.xlsx'\n",
    "PATH = r'C:\\Users\\Daoanh\\Documents\\Berkeley\\Summer 2019\\INSPI'\n",
    "FILEPATH = PATH + '\\\\' + FILE\n",
    "FILEPATH"
   ]
  },
  {
   "cell_type": "code",
   "execution_count": 17,
   "metadata": {},
   "outputs": [
    {
     "data": {
      "text/plain": [
       "'C:\\\\Users\\\\Daoanh\\\\Documents\\\\Berkeley\\\\Summer 2019\\\\INSPI\\\\BAS_20190611_Reporte_colectas_insectario_ADB_V03.xlsx'"
      ]
     },
     "execution_count": 17,
     "metadata": {},
     "output_type": "execute_result"
    }
   ],
   "source": [
    "FILEPATH"
   ]
  },
  {
   "cell_type": "code",
   "execution_count": 21,
   "metadata": {},
   "outputs": [],
   "source": [
    "dataImmTAO = pd.read_excel(\n",
    "    FILEPATH, sheet_name='3a.detalle_inmaduros'\n",
    "    )"
   ]
  },
  {
   "cell_type": "code",
   "execution_count": 22,
   "metadata": {},
   "outputs": [
    {
     "data": {
      "text/html": [
       "<div>\n",
       "<style scoped>\n",
       "    .dataframe tbody tr th:only-of-type {\n",
       "        vertical-align: middle;\n",
       "    }\n",
       "\n",
       "    .dataframe tbody tr th {\n",
       "        vertical-align: top;\n",
       "    }\n",
       "\n",
       "    .dataframe thead th {\n",
       "        text-align: right;\n",
       "    }\n",
       "</style>\n",
       "<table border=\"1\" class=\"dataframe\">\n",
       "  <thead>\n",
       "    <tr style=\"text-align: right;\">\n",
       "      <th></th>\n",
       "      <th>Año</th>\n",
       "      <th>Parroquia</th>\n",
       "      <th>Provincia</th>\n",
       "      <th>Distrito</th>\n",
       "      <th>Circuito</th>\n",
       "      <th>Subcircuito</th>\n",
       "      <th>Fecha de colecta</th>\n",
       "      <th>Código provincia</th>\n",
       "      <th>Código distrito</th>\n",
       "      <th>Código circuito</th>\n",
       "      <th>...</th>\n",
       "      <th>especie</th>\n",
       "      <th>sexo</th>\n",
       "      <th>destino</th>\n",
       "      <th>apellido</th>\n",
       "      <th>nombre</th>\n",
       "      <th>observacion</th>\n",
       "      <th>foto</th>\n",
       "      <th>ie3a_id</th>\n",
       "      <th>id3a_id</th>\n",
       "      <th>Sheet Number</th>\n",
       "    </tr>\n",
       "  </thead>\n",
       "  <tbody>\n",
       "    <tr>\n",
       "      <td>0</td>\n",
       "      <td>2014</td>\n",
       "      <td>Guayaquil</td>\n",
       "      <td>Guayas</td>\n",
       "      <td>Nueva Prosperina</td>\n",
       "      <td>Paraíso De La Flor</td>\n",
       "      <td>Paraíso De La Flor 1</td>\n",
       "      <td>2014-03-17</td>\n",
       "      <td>9</td>\n",
       "      <td>8</td>\n",
       "      <td>3</td>\n",
       "      <td>...</td>\n",
       "      <td>aegypti</td>\n",
       "      <td>Hembra</td>\n",
       "      <td>Molecular</td>\n",
       "      <td>Ulloa Constante</td>\n",
       "      <td>Paulina Margarita</td>\n",
       "      <td>NaN</td>\n",
       "      <td>NaN</td>\n",
       "      <td>2</td>\n",
       "      <td>1</td>\n",
       "      <td>3a</td>\n",
       "    </tr>\n",
       "    <tr>\n",
       "      <td>1</td>\n",
       "      <td>2014</td>\n",
       "      <td>Guayaquil</td>\n",
       "      <td>Guayas</td>\n",
       "      <td>Nueva Prosperina</td>\n",
       "      <td>Paraíso De La Flor</td>\n",
       "      <td>Paraíso De La Flor 1</td>\n",
       "      <td>2014-03-17</td>\n",
       "      <td>9</td>\n",
       "      <td>8</td>\n",
       "      <td>3</td>\n",
       "      <td>...</td>\n",
       "      <td>aegypti</td>\n",
       "      <td>Macho</td>\n",
       "      <td>Molecular</td>\n",
       "      <td>Ulloa Constante</td>\n",
       "      <td>Paulina Margarita</td>\n",
       "      <td>NaN</td>\n",
       "      <td>NaN</td>\n",
       "      <td>2</td>\n",
       "      <td>2</td>\n",
       "      <td>3a</td>\n",
       "    </tr>\n",
       "    <tr>\n",
       "      <td>2</td>\n",
       "      <td>2014</td>\n",
       "      <td>Guayaquil</td>\n",
       "      <td>Guayas</td>\n",
       "      <td>Nueva Prosperina</td>\n",
       "      <td>Paraíso De La Flor</td>\n",
       "      <td>Paraíso De La Flor 1</td>\n",
       "      <td>2014-03-17</td>\n",
       "      <td>9</td>\n",
       "      <td>8</td>\n",
       "      <td>3</td>\n",
       "      <td>...</td>\n",
       "      <td>aegypti</td>\n",
       "      <td>Macho</td>\n",
       "      <td>Molecular</td>\n",
       "      <td>Ulloa Constante</td>\n",
       "      <td>Paulina Margarita</td>\n",
       "      <td>NaN</td>\n",
       "      <td>NaN</td>\n",
       "      <td>2</td>\n",
       "      <td>3</td>\n",
       "      <td>3a</td>\n",
       "    </tr>\n",
       "    <tr>\n",
       "      <td>3</td>\n",
       "      <td>2014</td>\n",
       "      <td>Guayaquil</td>\n",
       "      <td>Guayas</td>\n",
       "      <td>Nueva Prosperina</td>\n",
       "      <td>Paraíso De La Flor</td>\n",
       "      <td>Paraíso De La Flor 1</td>\n",
       "      <td>2014-03-17</td>\n",
       "      <td>9</td>\n",
       "      <td>8</td>\n",
       "      <td>3</td>\n",
       "      <td>...</td>\n",
       "      <td>aegypti</td>\n",
       "      <td>Macho</td>\n",
       "      <td>Molecular</td>\n",
       "      <td>Ulloa Constante</td>\n",
       "      <td>Paulina Margarita</td>\n",
       "      <td>NaN</td>\n",
       "      <td>NaN</td>\n",
       "      <td>5</td>\n",
       "      <td>4</td>\n",
       "      <td>3a</td>\n",
       "    </tr>\n",
       "    <tr>\n",
       "      <td>4</td>\n",
       "      <td>2014</td>\n",
       "      <td>Guayaquil</td>\n",
       "      <td>Guayas</td>\n",
       "      <td>Nueva Prosperina</td>\n",
       "      <td>Paraíso De La Flor</td>\n",
       "      <td>Paraíso De La Flor 1</td>\n",
       "      <td>2014-03-17</td>\n",
       "      <td>9</td>\n",
       "      <td>8</td>\n",
       "      <td>3</td>\n",
       "      <td>...</td>\n",
       "      <td>aegypti</td>\n",
       "      <td>Hembra</td>\n",
       "      <td>Molecular</td>\n",
       "      <td>Ulloa Constante</td>\n",
       "      <td>Paulina Margarita</td>\n",
       "      <td>NaN</td>\n",
       "      <td>NaN</td>\n",
       "      <td>5</td>\n",
       "      <td>5</td>\n",
       "      <td>3a</td>\n",
       "    </tr>\n",
       "  </tbody>\n",
       "</table>\n",
       "<p>5 rows × 26 columns</p>\n",
       "</div>"
      ],
      "text/plain": [
       "    Año  Parroquia Provincia          Distrito            Circuito  \\\n",
       "0  2014  Guayaquil    Guayas  Nueva Prosperina  Paraíso De La Flor   \n",
       "1  2014  Guayaquil    Guayas  Nueva Prosperina  Paraíso De La Flor   \n",
       "2  2014  Guayaquil    Guayas  Nueva Prosperina  Paraíso De La Flor   \n",
       "3  2014  Guayaquil    Guayas  Nueva Prosperina  Paraíso De La Flor   \n",
       "4  2014  Guayaquil    Guayas  Nueva Prosperina  Paraíso De La Flor   \n",
       "\n",
       "            Subcircuito Fecha de colecta  Código provincia  Código distrito  \\\n",
       "0  Paraíso De La Flor 1       2014-03-17                 9                8   \n",
       "1  Paraíso De La Flor 1       2014-03-17                 9                8   \n",
       "2  Paraíso De La Flor 1       2014-03-17                 9                8   \n",
       "3  Paraíso De La Flor 1       2014-03-17                 9                8   \n",
       "4  Paraíso De La Flor 1       2014-03-17                 9                8   \n",
       "\n",
       "   Código circuito  ...  especie    sexo    destino         apellido  \\\n",
       "0                3  ...  aegypti  Hembra  Molecular  Ulloa Constante   \n",
       "1                3  ...  aegypti   Macho  Molecular  Ulloa Constante   \n",
       "2                3  ...  aegypti   Macho  Molecular  Ulloa Constante   \n",
       "3                3  ...  aegypti   Macho  Molecular  Ulloa Constante   \n",
       "4                3  ...  aegypti  Hembra  Molecular  Ulloa Constante   \n",
       "\n",
       "              nombre observacion foto ie3a_id id3a_id Sheet Number  \n",
       "0  Paulina Margarita         NaN  NaN       2       1           3a  \n",
       "1  Paulina Margarita         NaN  NaN       2       2           3a  \n",
       "2  Paulina Margarita         NaN  NaN       2       3           3a  \n",
       "3  Paulina Margarita         NaN  NaN       5       4           3a  \n",
       "4  Paulina Margarita         NaN  NaN       5       5           3a  \n",
       "\n",
       "[5 rows x 26 columns]"
      ]
     },
     "execution_count": 22,
     "metadata": {},
     "output_type": "execute_result"
    }
   ],
   "source": [
    "dataImmTAO.head()"
   ]
  },
  {
   "cell_type": "code",
   "execution_count": null,
   "metadata": {},
   "outputs": [],
   "source": []
  }
 ],
 "metadata": {
  "kernelspec": {
   "display_name": "Python 3",
   "language": "python",
   "name": "python3"
  },
  "language_info": {
   "codemirror_mode": {
    "name": "ipython",
    "version": 3
   },
   "file_extension": ".py",
   "mimetype": "text/x-python",
   "name": "python",
   "nbconvert_exporter": "python",
   "pygments_lexer": "ipython3",
   "version": "3.7.4"
  }
 },
 "nbformat": 4,
 "nbformat_minor": 2
}
