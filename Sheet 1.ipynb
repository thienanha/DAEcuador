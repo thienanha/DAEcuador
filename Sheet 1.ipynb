{
  "cells": [
    {
      "cell_type": "markdown",
      "source": [
        "# Cleaning Ecuador's Dataset"
      ],
      "metadata": {}
    },
    {
      "cell_type": "markdown",
      "source": [
        "## Import Packages"
      ],
      "metadata": {}
    },
    {
      "cell_type": "markdown",
      "source": [
        "Style Notes:\n",
        "*   Always import your libraries and packages at the top of your code to avoid name clashes, undefined behavior, and to let everyone know what they need to install to run the whole script."
      ],
      "metadata": {}
    },
    {
      "cell_type": "code",
      "source": [
        "############################################################################################################\n",
        "# Make sure to change username to setup the correct path\n",
        "#   TH: Thien-An Ha\n",
        "#   HS: Héctor M. Sánchez C.\n",
        "############################################################################################################\n",
        "USER = 'HS'\n",
        "############################################################################################################\n",
        "import pandas as pd"
      ],
      "outputs": [],
      "execution_count": 36,
      "metadata": {}
    },
    {
      "cell_type": "markdown",
      "source": [
        "## Setup Paths"
      ],
      "metadata": {}
    },
    {
      "cell_type": "markdown",
      "source": [
        "Style Notes: \n",
        "*   Constant's names are usually written in \"allcaps\" to signal other programmers that their values should not be changed in normal circumstances throughout the code. In other languages there's ways to make actuall \"constants\" that can't be changed but it's a good practice nevertheless to use allcaps.\n",
        "*   Setting up the path separate from the filename will help when we want to export the results of the cleaning."
      ],
      "metadata": {}
    },
    {
      "cell_type": "code",
      "source": [
        "if USER == 'TH':\n",
        "    FILE = 'BAS_20190611_Reporte_colectas_insectario_ADB_V03.xlsx'\n",
        "    PATH = r'C:\\Users\\Daoanh\\Documents\\Berkeley\\Summer 2019\\INSPI'\n",
        "    FILEPATH = PATH + '\\\\' + FILE\n",
        "    print(FILEPATH)\n",
        "elif USER == 'HS':\n",
        "    FILE = 'BAS_20190611_Reporte_colectas_insectario_ADB_V02.xlsx'\n",
        "    PATH = '/Volumes/marshallShare/Ecuador/'\n",
        "    FILEPATH = PATH + FILE\n",
        "    print(FILEPATH)\n",
        "else:\n",
        "    (FILE, PATH, FILEPATH) = [None for i in range(3)]\n",
        "    print('\"Invalid username. Paths are set to \"None\".')\n"
      ],
      "outputs": [
        {
          "output_type": "stream",
          "name": "stdout",
          "text": [
            "/Volumes/marshallShare/Ecuador/BAS_20190611_Reporte_colectas_insectario_ADB_V02.xlsx\n"
          ]
        }
      ],
      "execution_count": 37,
      "metadata": {}
    },
    {
      "cell_type": "markdown",
      "source": [
        "## Start working on the dataset"
      ],
      "metadata": {}
    },
    {
      "cell_type": "markdown",
      "source": [
        "General Notes:\n",
        "*   This line takes some time because the dataset is large. Wait until the evaluation is over!"
      ],
      "metadata": {}
    },
    {
      "cell_type": "code",
      "source": [
        "dataImmTAO = pd.read_excel(\n",
        "    FILEPATH, \n",
        "    sheet_name='3a.detalle_inmaduros',\n",
        "    parse_dates=[0, 6, 13]\n",
        ")"
      ],
      "outputs": [],
      "execution_count": 32,
      "metadata": {}
    },
    {
      "cell_type": "markdown",
      "source": [
        "Coding Notes:\n",
        "*   The `'.'` in most programming languages is used to denote that you're calling the method of an instance of an object (I'll explain this a bit better once we're back). In general terms it can be read as `object.method()`, where I'm asking the `object` to perform the action that was programmed as `method`. For example: `dataImmTAO.head()` tells the dataframe object `dataImmTAO` that it should perform the `head()` action, which is coded in its class' definition (this also needs some 'in-person' explaining, but it's not difficult)."
      ],
      "metadata": {}
    },
    {
      "cell_type": "code",
      "source": [
        "dataImmTAO.head()\n",
        "dataImmTAO.tail()"
      ],
      "outputs": [
        {
          "output_type": "execute_result",
          "execution_count": 28,
          "data": {
            "text/plain": [
              "        Año  Parroquia Provincia          Distrito            Circuito  \\\n",
              "23811  2016  Guayaquil    Guayas  Nueva Prosperina  Paraíso De La Flor   \n",
              "23812  2016  Guayaquil    Guayas  Nueva Prosperina  Paraíso De La Flor   \n",
              "23813  2016  Guayaquil    Guayas  Nueva Prosperina  Paraíso De La Flor   \n",
              "23814  2016  Guayaquil    Guayas  Nueva Prosperina  Paraíso De La Flor   \n",
              "23815  2016  Guayaquil    Guayas  Nueva Prosperina  Paraíso De La Flor   \n",
              "\n",
              "                Subcircuito Fecha de colecta  Código provincia  \\\n",
              "23811  Paraíso De La Flor 1       2016-08-16                 9   \n",
              "23812  Paraíso De La Flor 1       2016-08-16                 9   \n",
              "23813  Paraíso De La Flor 1       2016-08-16                 9   \n",
              "23814  Paraíso De La Flor 1       2016-08-16                 9   \n",
              "23815  Paraíso De La Flor 1       2016-08-16                 9   \n",
              "\n",
              "       Código distrito  Código circuito  ...  especie                sexo  \\\n",
              "23811                8                3  ...  aegypti              Hembra   \n",
              "23812                8                3  ...  aegypti  Sin identificación   \n",
              "23813                8                3  ...  aegypti  Sin identificación   \n",
              "23814                8                3  ...  aegypti  Sin identificación   \n",
              "23815                8                3  ...  aegypti  Sin identificación   \n",
              "\n",
              "              destino      apellido          nombre     observacion foto  \\\n",
              "23811  Almacenamiento  Cajas Jácome  Angel Fernando             NaN  NaN   \n",
              "23812  Larvas muertas  Cajas Jácome  Angel Fernando             NaN  NaN   \n",
              "23813         Colonia  Cajas Jácome  Angel Fernando  larvas colonia  NaN   \n",
              "23814  Larvas muertas  Cajas Jácome  Angel Fernando             NaN  NaN   \n",
              "23815         Colonia  Cajas Jácome  Angel Fernando  larvas colonia  NaN   \n",
              "\n",
              "      ie3a_id id3a_id Sheet #  \n",
              "23811   27311   24665     NaN  \n",
              "23812   27311   24666     NaN  \n",
              "23813   27311   24667     NaN  \n",
              "23814   27314   24668     NaN  \n",
              "23815   27314   24669     NaN  \n",
              "\n",
              "[5 rows x 26 columns]"
            ],
            "text/html": [
              "<div>\n",
              "<style scoped>\n",
              "    .dataframe tbody tr th:only-of-type {\n",
              "        vertical-align: middle;\n",
              "    }\n",
              "\n",
              "    .dataframe tbody tr th {\n",
              "        vertical-align: top;\n",
              "    }\n",
              "\n",
              "    .dataframe thead th {\n",
              "        text-align: right;\n",
              "    }\n",
              "</style>\n",
              "<table border=\"1\" class=\"dataframe\">\n",
              "  <thead>\n",
              "    <tr style=\"text-align: right;\">\n",
              "      <th></th>\n",
              "      <th>Año</th>\n",
              "      <th>Parroquia</th>\n",
              "      <th>Provincia</th>\n",
              "      <th>Distrito</th>\n",
              "      <th>Circuito</th>\n",
              "      <th>Subcircuito</th>\n",
              "      <th>Fecha de colecta</th>\n",
              "      <th>Código provincia</th>\n",
              "      <th>Código distrito</th>\n",
              "      <th>Código circuito</th>\n",
              "      <th>...</th>\n",
              "      <th>especie</th>\n",
              "      <th>sexo</th>\n",
              "      <th>destino</th>\n",
              "      <th>apellido</th>\n",
              "      <th>nombre</th>\n",
              "      <th>observacion</th>\n",
              "      <th>foto</th>\n",
              "      <th>ie3a_id</th>\n",
              "      <th>id3a_id</th>\n",
              "      <th>Sheet #</th>\n",
              "    </tr>\n",
              "  </thead>\n",
              "  <tbody>\n",
              "    <tr>\n",
              "      <th>23811</th>\n",
              "      <td>2016</td>\n",
              "      <td>Guayaquil</td>\n",
              "      <td>Guayas</td>\n",
              "      <td>Nueva Prosperina</td>\n",
              "      <td>Paraíso De La Flor</td>\n",
              "      <td>Paraíso De La Flor 1</td>\n",
              "      <td>2016-08-16</td>\n",
              "      <td>9</td>\n",
              "      <td>8</td>\n",
              "      <td>3</td>\n",
              "      <td>...</td>\n",
              "      <td>aegypti</td>\n",
              "      <td>Hembra</td>\n",
              "      <td>Almacenamiento</td>\n",
              "      <td>Cajas Jácome</td>\n",
              "      <td>Angel Fernando</td>\n",
              "      <td>NaN</td>\n",
              "      <td>NaN</td>\n",
              "      <td>27311</td>\n",
              "      <td>24665</td>\n",
              "      <td>NaN</td>\n",
              "    </tr>\n",
              "    <tr>\n",
              "      <th>23812</th>\n",
              "      <td>2016</td>\n",
              "      <td>Guayaquil</td>\n",
              "      <td>Guayas</td>\n",
              "      <td>Nueva Prosperina</td>\n",
              "      <td>Paraíso De La Flor</td>\n",
              "      <td>Paraíso De La Flor 1</td>\n",
              "      <td>2016-08-16</td>\n",
              "      <td>9</td>\n",
              "      <td>8</td>\n",
              "      <td>3</td>\n",
              "      <td>...</td>\n",
              "      <td>aegypti</td>\n",
              "      <td>Sin identificación</td>\n",
              "      <td>Larvas muertas</td>\n",
              "      <td>Cajas Jácome</td>\n",
              "      <td>Angel Fernando</td>\n",
              "      <td>NaN</td>\n",
              "      <td>NaN</td>\n",
              "      <td>27311</td>\n",
              "      <td>24666</td>\n",
              "      <td>NaN</td>\n",
              "    </tr>\n",
              "    <tr>\n",
              "      <th>23813</th>\n",
              "      <td>2016</td>\n",
              "      <td>Guayaquil</td>\n",
              "      <td>Guayas</td>\n",
              "      <td>Nueva Prosperina</td>\n",
              "      <td>Paraíso De La Flor</td>\n",
              "      <td>Paraíso De La Flor 1</td>\n",
              "      <td>2016-08-16</td>\n",
              "      <td>9</td>\n",
              "      <td>8</td>\n",
              "      <td>3</td>\n",
              "      <td>...</td>\n",
              "      <td>aegypti</td>\n",
              "      <td>Sin identificación</td>\n",
              "      <td>Colonia</td>\n",
              "      <td>Cajas Jácome</td>\n",
              "      <td>Angel Fernando</td>\n",
              "      <td>larvas colonia</td>\n",
              "      <td>NaN</td>\n",
              "      <td>27311</td>\n",
              "      <td>24667</td>\n",
              "      <td>NaN</td>\n",
              "    </tr>\n",
              "    <tr>\n",
              "      <th>23814</th>\n",
              "      <td>2016</td>\n",
              "      <td>Guayaquil</td>\n",
              "      <td>Guayas</td>\n",
              "      <td>Nueva Prosperina</td>\n",
              "      <td>Paraíso De La Flor</td>\n",
              "      <td>Paraíso De La Flor 1</td>\n",
              "      <td>2016-08-16</td>\n",
              "      <td>9</td>\n",
              "      <td>8</td>\n",
              "      <td>3</td>\n",
              "      <td>...</td>\n",
              "      <td>aegypti</td>\n",
              "      <td>Sin identificación</td>\n",
              "      <td>Larvas muertas</td>\n",
              "      <td>Cajas Jácome</td>\n",
              "      <td>Angel Fernando</td>\n",
              "      <td>NaN</td>\n",
              "      <td>NaN</td>\n",
              "      <td>27314</td>\n",
              "      <td>24668</td>\n",
              "      <td>NaN</td>\n",
              "    </tr>\n",
              "    <tr>\n",
              "      <th>23815</th>\n",
              "      <td>2016</td>\n",
              "      <td>Guayaquil</td>\n",
              "      <td>Guayas</td>\n",
              "      <td>Nueva Prosperina</td>\n",
              "      <td>Paraíso De La Flor</td>\n",
              "      <td>Paraíso De La Flor 1</td>\n",
              "      <td>2016-08-16</td>\n",
              "      <td>9</td>\n",
              "      <td>8</td>\n",
              "      <td>3</td>\n",
              "      <td>...</td>\n",
              "      <td>aegypti</td>\n",
              "      <td>Sin identificación</td>\n",
              "      <td>Colonia</td>\n",
              "      <td>Cajas Jácome</td>\n",
              "      <td>Angel Fernando</td>\n",
              "      <td>larvas colonia</td>\n",
              "      <td>NaN</td>\n",
              "      <td>27314</td>\n",
              "      <td>24669</td>\n",
              "      <td>NaN</td>\n",
              "    </tr>\n",
              "  </tbody>\n",
              "</table>\n",
              "<p>5 rows × 26 columns</p>\n",
              "</div>"
            ]
          },
          "metadata": {}
        }
      ],
      "execution_count": 28,
      "metadata": {}
    }
  ],
  "metadata": {
    "kernelspec": {
      "name": "python3",
      "language": "python",
      "display_name": "Python 3"
    },
    "language_info": {
      "name": "python",
      "version": "3.6.3",
      "mimetype": "text/x-python",
      "codemirror_mode": {
        "name": "ipython",
        "version": 3
      },
      "pygments_lexer": "ipython3",
      "nbconvert_exporter": "python",
      "file_extension": ".py"
    },
    "kernel_info": {
      "name": "python3"
    },
    "nteract": {
      "version": "0.14.5"
    }
  },
  "nbformat": 4,
  "nbformat_minor": 2
}